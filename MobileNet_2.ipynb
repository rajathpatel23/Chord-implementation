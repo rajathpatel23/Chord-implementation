{
  "nbformat": 4,
  "nbformat_minor": 0,
  "metadata": {
    "colab": {
      "name": "MobileNet.ipynb",
      "version": "0.3.2",
      "provenance": [],
      "machine_shape": "hm",
      "include_colab_link": true
    },
    "kernelspec": {
      "name": "python3",
      "display_name": "Python 3"
    },
    "accelerator": "GPU"
  },
  "cells": [
    {
      "cell_type": "markdown",
      "metadata": {
        "id": "view-in-github",
        "colab_type": "text"
      },
      "source": [
        "<a href=\"https://colab.research.google.com/github/rajathpatel23/Chord-implementation/blob/master/MobileNet_2.ipynb\" target=\"_parent\"><img src=\"https://colab.research.google.com/assets/colab-badge.svg\" alt=\"Open In Colab\"/></a>"
      ]
    },
    {
      "cell_type": "code",
      "metadata": {
        "id": "-P2sGP-j2cSi",
        "colab_type": "code",
        "colab": {
          "base_uri": "https://localhost:8080/",
          "height": 88
        },
        "outputId": "70f0eed0-553f-4a72-c3fd-1719016cc00a"
      },
      "source": [
        "import numpy as np\n",
        "import pandas as pd\n",
        "import keras\n",
        "from keras.applications.mobilenet import MobileNet\n",
        "from keras.models import Model\n",
        "from pickle import dump\n",
        "from keras.layers import Dense, Flatten, GlobalAveragePooling2D\n",
        "from keras.regularizers import l2\n",
        "from sklearn.externals import joblib"
      ],
      "execution_count": 1,
      "outputs": [
        {
          "output_type": "stream",
          "text": [
            "Using TensorFlow backend.\n",
            "/usr/local/lib/python3.6/dist-packages/sklearn/externals/joblib/__init__.py:15: DeprecationWarning: sklearn.externals.joblib is deprecated in 0.21 and will be removed in 0.23. Please import this functionality directly from joblib, which can be installed with: pip install joblib. If this warning is raised when loading pickled models, you may need to re-serialize those models with scikit-learn 0.21+.\n",
            "  warnings.warn(msg, category=DeprecationWarning)\n"
          ],
          "name": "stderr"
        }
      ]
    },
    {
      "cell_type": "code",
      "metadata": {
        "id": "hY14zqSp2v2f",
        "colab_type": "code",
        "colab": {
          "base_uri": "https://localhost:8080/",
          "height": 122
        },
        "outputId": "3bd556bd-eb5b-463a-e7a9-a2e7095ee16d"
      },
      "source": [
        "from google.colab import drive\n",
        "drive.mount('/content/drive')"
      ],
      "execution_count": 2,
      "outputs": [
        {
          "output_type": "stream",
          "text": [
            "Go to this URL in a browser: https://accounts.google.com/o/oauth2/auth?client_id=947318989803-6bn6qk8qdgf4n4g3pfee6491hc0brc4i.apps.googleusercontent.com&redirect_uri=urn%3Aietf%3Awg%3Aoauth%3A2.0%3Aoob&scope=email%20https%3A%2F%2Fwww.googleapis.com%2Fauth%2Fdocs.test%20https%3A%2F%2Fwww.googleapis.com%2Fauth%2Fdrive%20https%3A%2F%2Fwww.googleapis.com%2Fauth%2Fdrive.photos.readonly%20https%3A%2F%2Fwww.googleapis.com%2Fauth%2Fpeopleapi.readonly&response_type=code\n",
            "\n",
            "Enter your authorization code:\n",
            "··········\n",
            "Mounted at /content/drive\n"
          ],
          "name": "stdout"
        }
      ]
    },
    {
      "cell_type": "code",
      "metadata": {
        "id": "gwTE2FmM2zZR",
        "colab_type": "code",
        "colab": {
          "base_uri": "https://localhost:8080/",
          "height": 34
        },
        "outputId": "1febd483-a862-4da6-e558-8720a89d6d66"
      },
      "source": [
        "import tensorflow as tf\n",
        "device_name = tf.test.gpu_device_name()\n",
        "if device_name != '/device:GPU:0':\n",
        "  raise SystemError('GPU device not found')\n",
        "print('Found GPU at: {}'.format(device_name))"
      ],
      "execution_count": 3,
      "outputs": [
        {
          "output_type": "stream",
          "text": [
            "Found GPU at: /device:GPU:0\n"
          ],
          "name": "stdout"
        }
      ]
    },
    {
      "cell_type": "code",
      "metadata": {
        "id": "U0FAjW0323hW",
        "colab_type": "code",
        "colab": {}
      },
      "source": [
        "train_dict_1 = joblib.load('/content/drive/My Drive/Dataset/train_stft_data_1.pkl')\n",
        "train_dict_2 = joblib.load('/content/drive/My Drive/Dataset/train_stft_data_2.pkl')"
      ],
      "execution_count": 0,
      "outputs": []
    },
    {
      "cell_type": "code",
      "metadata": {
        "id": "pmQwYq-f28kE",
        "colab_type": "code",
        "colab": {}
      },
      "source": [
        "def get_tuning(X_in):\n",
        "      tuned_out = []\n",
        "      for x in range(len(X_in)):\n",
        "            if X_in[x][0] >= 0.5:\n",
        "                  tuned_out.append(1)\n",
        "            else:\n",
        "                  tuned_out.append(0)\n",
        "      return tuned_out\n",
        "\n",
        "def get_confusion_matrix(y_t, y_pred):\n",
        "      tn, fp, fn, tp = confusion_matrix(y_t, y_pred).ravel()\n",
        "      sensitivity = tp/(tp + fn)\n",
        "      specificity = tn/(tn + fp)\n",
        "      PPV = tp/(tp + fp)\n",
        "      NPV = tn/(tn + fn)\n",
        "      return sensitivity, specificity, PPV, NPV\n",
        "\n",
        "def get_aucpr(y_t, y_pred):\n",
        "      precision, recall, thres  = precision_recall_curve(y_t, y_pred)\n",
        "      aucpr = auc(recall, precision)\n",
        "      return aucpr\n",
        "\n",
        "\n",
        "def get_processed_X(X):\n",
        "      X_copy  = X\n",
        "      for arr in range(len(X_copy)):\n",
        "            a = np.min(X_copy[arr])\n",
        "            b = np.max(X_copy[arr])\n",
        "            X_copy[arr] = np.divide(np.subtract(X_copy[arr], a), (b-a))\n",
        "      return X_copy \n",
        "#%%\n",
        "def get_reshape(X):\n",
        "      X = X.reshape(X.shape[0], X.shape[1], X.shape[2], 1)\n",
        "      return X"
      ],
      "execution_count": 0,
      "outputs": []
    },
    {
      "cell_type": "code",
      "metadata": {
        "id": "dowNatJ52_jk",
        "colab_type": "code",
        "colab": {}
      },
      "source": [
        "X = np.concatenate((train_dict_1[\"stft\"], train_dict_2[\"stft\"]))\n",
        "y = np.concatenate((train_dict_1[\"MT\"], train_dict_2[\"MT\"]))"
      ],
      "execution_count": 0,
      "outputs": []
    },
    {
      "cell_type": "code",
      "metadata": {
        "id": "_3O1A07c3A6r",
        "colab_type": "code",
        "colab": {}
      },
      "source": [
        "del train_dict_1\n",
        "del train_dict_2\n",
        "X = get_processed_X(X)"
      ],
      "execution_count": 0,
      "outputs": []
    },
    {
      "cell_type": "code",
      "metadata": {
        "id": "GuepW1jS3B6I",
        "colab_type": "code",
        "colab": {
          "base_uri": "https://localhost:8080/",
          "height": 34
        },
        "outputId": "42fc3814-d03a-4b4e-c73a-385586d981d7"
      },
      "source": [
        "X = np.stack((X,)*3, axis=-1)\n",
        "print(X.shape)"
      ],
      "execution_count": 20,
      "outputs": [
        {
          "output_type": "stream",
          "text": [
            "(7683, 375, 148, 3)\n"
          ],
          "name": "stdout"
        }
      ]
    },
    {
      "cell_type": "code",
      "metadata": {
        "id": "PRzi6bV33C88",
        "colab_type": "code",
        "colab": {
          "base_uri": "https://localhost:8080/",
          "height": 71
        },
        "outputId": "c13319ab-c2c0-4dd6-f1d6-261f63f0128d"
      },
      "source": [
        "model_1 = MobileNet(include_top=False, input_shape=(375, 148, 3))\n",
        "# print(model_1.summary())"
      ],
      "execution_count": 21,
      "outputs": [
        {
          "output_type": "stream",
          "text": [
            "/usr/local/lib/python3.6/dist-packages/keras_applications/mobilenet.py:207: UserWarning: `input_shape` is undefined or non-square, or `rows` is not in [128, 160, 192, 224]. Weights for input shape (224, 224) will be loaded as the default.\n",
            "  warnings.warn('`input_shape` is undefined or non-square, '\n"
          ],
          "name": "stderr"
        }
      ]
    },
    {
      "cell_type": "code",
      "metadata": {
        "id": "lCB_UZvC3JBd",
        "colab_type": "code",
        "colab": {
          "base_uri": "https://localhost:8080/",
          "height": 1000
        },
        "outputId": "52aec687-fcfb-4ae7-c9e1-319c1f569b31"
      },
      "source": [
        "average_layer =GlobalAveragePooling2D()(model_1.output)\n",
        "# flat1 =Flatten()(average_layer)\n",
        "# class1 = Dense(1024, activation='relu')(average_layer)\n",
        "class2 = Dense(512, activation='relu')(average_layer)\n",
        "output = Dense(1, activation='sigmoid', activity_regularizer=l2(0.01))(class2)\n",
        "model = Model(inputs = model_1.inputs, outputs = output)\n",
        "model.summary()\n",
        "model.compile(loss='binary_crossentropy',optimizer='adam')"
      ],
      "execution_count": 22,
      "outputs": [
        {
          "output_type": "stream",
          "text": [
            "Model: \"model_2\"\n",
            "_________________________________________________________________\n",
            "Layer (type)                 Output Shape              Param #   \n",
            "=================================================================\n",
            "input_2 (InputLayer)         (None, 375, 148, 3)       0         \n",
            "_________________________________________________________________\n",
            "conv1_pad (ZeroPadding2D)    (None, 376, 149, 3)       0         \n",
            "_________________________________________________________________\n",
            "conv1 (Conv2D)               (None, 187, 74, 32)       864       \n",
            "_________________________________________________________________\n",
            "conv1_bn (BatchNormalization (None, 187, 74, 32)       128       \n",
            "_________________________________________________________________\n",
            "conv1_relu (ReLU)            (None, 187, 74, 32)       0         \n",
            "_________________________________________________________________\n",
            "conv_dw_1 (DepthwiseConv2D)  (None, 187, 74, 32)       288       \n",
            "_________________________________________________________________\n",
            "conv_dw_1_bn (BatchNormaliza (None, 187, 74, 32)       128       \n",
            "_________________________________________________________________\n",
            "conv_dw_1_relu (ReLU)        (None, 187, 74, 32)       0         \n",
            "_________________________________________________________________\n",
            "conv_pw_1 (Conv2D)           (None, 187, 74, 64)       2048      \n",
            "_________________________________________________________________\n",
            "conv_pw_1_bn (BatchNormaliza (None, 187, 74, 64)       256       \n",
            "_________________________________________________________________\n",
            "conv_pw_1_relu (ReLU)        (None, 187, 74, 64)       0         \n",
            "_________________________________________________________________\n",
            "conv_pad_2 (ZeroPadding2D)   (None, 188, 75, 64)       0         \n",
            "_________________________________________________________________\n",
            "conv_dw_2 (DepthwiseConv2D)  (None, 93, 37, 64)        576       \n",
            "_________________________________________________________________\n",
            "conv_dw_2_bn (BatchNormaliza (None, 93, 37, 64)        256       \n",
            "_________________________________________________________________\n",
            "conv_dw_2_relu (ReLU)        (None, 93, 37, 64)        0         \n",
            "_________________________________________________________________\n",
            "conv_pw_2 (Conv2D)           (None, 93, 37, 128)       8192      \n",
            "_________________________________________________________________\n",
            "conv_pw_2_bn (BatchNormaliza (None, 93, 37, 128)       512       \n",
            "_________________________________________________________________\n",
            "conv_pw_2_relu (ReLU)        (None, 93, 37, 128)       0         \n",
            "_________________________________________________________________\n",
            "conv_dw_3 (DepthwiseConv2D)  (None, 93, 37, 128)       1152      \n",
            "_________________________________________________________________\n",
            "conv_dw_3_bn (BatchNormaliza (None, 93, 37, 128)       512       \n",
            "_________________________________________________________________\n",
            "conv_dw_3_relu (ReLU)        (None, 93, 37, 128)       0         \n",
            "_________________________________________________________________\n",
            "conv_pw_3 (Conv2D)           (None, 93, 37, 128)       16384     \n",
            "_________________________________________________________________\n",
            "conv_pw_3_bn (BatchNormaliza (None, 93, 37, 128)       512       \n",
            "_________________________________________________________________\n",
            "conv_pw_3_relu (ReLU)        (None, 93, 37, 128)       0         \n",
            "_________________________________________________________________\n",
            "conv_pad_4 (ZeroPadding2D)   (None, 94, 38, 128)       0         \n",
            "_________________________________________________________________\n",
            "conv_dw_4 (DepthwiseConv2D)  (None, 46, 18, 128)       1152      \n",
            "_________________________________________________________________\n",
            "conv_dw_4_bn (BatchNormaliza (None, 46, 18, 128)       512       \n",
            "_________________________________________________________________\n",
            "conv_dw_4_relu (ReLU)        (None, 46, 18, 128)       0         \n",
            "_________________________________________________________________\n",
            "conv_pw_4 (Conv2D)           (None, 46, 18, 256)       32768     \n",
            "_________________________________________________________________\n",
            "conv_pw_4_bn (BatchNormaliza (None, 46, 18, 256)       1024      \n",
            "_________________________________________________________________\n",
            "conv_pw_4_relu (ReLU)        (None, 46, 18, 256)       0         \n",
            "_________________________________________________________________\n",
            "conv_dw_5 (DepthwiseConv2D)  (None, 46, 18, 256)       2304      \n",
            "_________________________________________________________________\n",
            "conv_dw_5_bn (BatchNormaliza (None, 46, 18, 256)       1024      \n",
            "_________________________________________________________________\n",
            "conv_dw_5_relu (ReLU)        (None, 46, 18, 256)       0         \n",
            "_________________________________________________________________\n",
            "conv_pw_5 (Conv2D)           (None, 46, 18, 256)       65536     \n",
            "_________________________________________________________________\n",
            "conv_pw_5_bn (BatchNormaliza (None, 46, 18, 256)       1024      \n",
            "_________________________________________________________________\n",
            "conv_pw_5_relu (ReLU)        (None, 46, 18, 256)       0         \n",
            "_________________________________________________________________\n",
            "conv_pad_6 (ZeroPadding2D)   (None, 47, 19, 256)       0         \n",
            "_________________________________________________________________\n",
            "conv_dw_6 (DepthwiseConv2D)  (None, 23, 9, 256)        2304      \n",
            "_________________________________________________________________\n",
            "conv_dw_6_bn (BatchNormaliza (None, 23, 9, 256)        1024      \n",
            "_________________________________________________________________\n",
            "conv_dw_6_relu (ReLU)        (None, 23, 9, 256)        0         \n",
            "_________________________________________________________________\n",
            "conv_pw_6 (Conv2D)           (None, 23, 9, 512)        131072    \n",
            "_________________________________________________________________\n",
            "conv_pw_6_bn (BatchNormaliza (None, 23, 9, 512)        2048      \n",
            "_________________________________________________________________\n",
            "conv_pw_6_relu (ReLU)        (None, 23, 9, 512)        0         \n",
            "_________________________________________________________________\n",
            "conv_dw_7 (DepthwiseConv2D)  (None, 23, 9, 512)        4608      \n",
            "_________________________________________________________________\n",
            "conv_dw_7_bn (BatchNormaliza (None, 23, 9, 512)        2048      \n",
            "_________________________________________________________________\n",
            "conv_dw_7_relu (ReLU)        (None, 23, 9, 512)        0         \n",
            "_________________________________________________________________\n",
            "conv_pw_7 (Conv2D)           (None, 23, 9, 512)        262144    \n",
            "_________________________________________________________________\n",
            "conv_pw_7_bn (BatchNormaliza (None, 23, 9, 512)        2048      \n",
            "_________________________________________________________________\n",
            "conv_pw_7_relu (ReLU)        (None, 23, 9, 512)        0         \n",
            "_________________________________________________________________\n",
            "conv_dw_8 (DepthwiseConv2D)  (None, 23, 9, 512)        4608      \n",
            "_________________________________________________________________\n",
            "conv_dw_8_bn (BatchNormaliza (None, 23, 9, 512)        2048      \n",
            "_________________________________________________________________\n",
            "conv_dw_8_relu (ReLU)        (None, 23, 9, 512)        0         \n",
            "_________________________________________________________________\n",
            "conv_pw_8 (Conv2D)           (None, 23, 9, 512)        262144    \n",
            "_________________________________________________________________\n",
            "conv_pw_8_bn (BatchNormaliza (None, 23, 9, 512)        2048      \n",
            "_________________________________________________________________\n",
            "conv_pw_8_relu (ReLU)        (None, 23, 9, 512)        0         \n",
            "_________________________________________________________________\n",
            "conv_dw_9 (DepthwiseConv2D)  (None, 23, 9, 512)        4608      \n",
            "_________________________________________________________________\n",
            "conv_dw_9_bn (BatchNormaliza (None, 23, 9, 512)        2048      \n",
            "_________________________________________________________________\n",
            "conv_dw_9_relu (ReLU)        (None, 23, 9, 512)        0         \n",
            "_________________________________________________________________\n",
            "conv_pw_9 (Conv2D)           (None, 23, 9, 512)        262144    \n",
            "_________________________________________________________________\n",
            "conv_pw_9_bn (BatchNormaliza (None, 23, 9, 512)        2048      \n",
            "_________________________________________________________________\n",
            "conv_pw_9_relu (ReLU)        (None, 23, 9, 512)        0         \n",
            "_________________________________________________________________\n",
            "conv_dw_10 (DepthwiseConv2D) (None, 23, 9, 512)        4608      \n",
            "_________________________________________________________________\n",
            "conv_dw_10_bn (BatchNormaliz (None, 23, 9, 512)        2048      \n",
            "_________________________________________________________________\n",
            "conv_dw_10_relu (ReLU)       (None, 23, 9, 512)        0         \n",
            "_________________________________________________________________\n",
            "conv_pw_10 (Conv2D)          (None, 23, 9, 512)        262144    \n",
            "_________________________________________________________________\n",
            "conv_pw_10_bn (BatchNormaliz (None, 23, 9, 512)        2048      \n",
            "_________________________________________________________________\n",
            "conv_pw_10_relu (ReLU)       (None, 23, 9, 512)        0         \n",
            "_________________________________________________________________\n",
            "conv_dw_11 (DepthwiseConv2D) (None, 23, 9, 512)        4608      \n",
            "_________________________________________________________________\n",
            "conv_dw_11_bn (BatchNormaliz (None, 23, 9, 512)        2048      \n",
            "_________________________________________________________________\n",
            "conv_dw_11_relu (ReLU)       (None, 23, 9, 512)        0         \n",
            "_________________________________________________________________\n",
            "conv_pw_11 (Conv2D)          (None, 23, 9, 512)        262144    \n",
            "_________________________________________________________________\n",
            "conv_pw_11_bn (BatchNormaliz (None, 23, 9, 512)        2048      \n",
            "_________________________________________________________________\n",
            "conv_pw_11_relu (ReLU)       (None, 23, 9, 512)        0         \n",
            "_________________________________________________________________\n",
            "conv_pad_12 (ZeroPadding2D)  (None, 24, 10, 512)       0         \n",
            "_________________________________________________________________\n",
            "conv_dw_12 (DepthwiseConv2D) (None, 11, 4, 512)        4608      \n",
            "_________________________________________________________________\n",
            "conv_dw_12_bn (BatchNormaliz (None, 11, 4, 512)        2048      \n",
            "_________________________________________________________________\n",
            "conv_dw_12_relu (ReLU)       (None, 11, 4, 512)        0         \n",
            "_________________________________________________________________\n",
            "conv_pw_12 (Conv2D)          (None, 11, 4, 1024)       524288    \n",
            "_________________________________________________________________\n",
            "conv_pw_12_bn (BatchNormaliz (None, 11, 4, 1024)       4096      \n",
            "_________________________________________________________________\n",
            "conv_pw_12_relu (ReLU)       (None, 11, 4, 1024)       0         \n",
            "_________________________________________________________________\n",
            "conv_dw_13 (DepthwiseConv2D) (None, 11, 4, 1024)       9216      \n",
            "_________________________________________________________________\n",
            "conv_dw_13_bn (BatchNormaliz (None, 11, 4, 1024)       4096      \n",
            "_________________________________________________________________\n",
            "conv_dw_13_relu (ReLU)       (None, 11, 4, 1024)       0         \n",
            "_________________________________________________________________\n",
            "conv_pw_13 (Conv2D)          (None, 11, 4, 1024)       1048576   \n",
            "_________________________________________________________________\n",
            "conv_pw_13_bn (BatchNormaliz (None, 11, 4, 1024)       4096      \n",
            "_________________________________________________________________\n",
            "conv_pw_13_relu (ReLU)       (None, 11, 4, 1024)       0         \n",
            "_________________________________________________________________\n",
            "global_average_pooling2d_2 ( (None, 1024)              0         \n",
            "_________________________________________________________________\n",
            "dense_3 (Dense)              (None, 512)               524800    \n",
            "_________________________________________________________________\n",
            "dense_4 (Dense)              (None, 1)                 513       \n",
            "=================================================================\n",
            "Total params: 3,754,177\n",
            "Trainable params: 3,732,289\n",
            "Non-trainable params: 21,888\n",
            "_________________________________________________________________\n"
          ],
          "name": "stdout"
        }
      ]
    },
    {
      "cell_type": "markdown",
      "metadata": {
        "id": "ie_tc9vuOFjn",
        "colab_type": "text"
      },
      "source": [
        ""
      ]
    },
    {
      "cell_type": "code",
      "metadata": {
        "id": "QqNs-mc23NVq",
        "colab_type": "code",
        "colab": {
          "base_uri": "https://localhost:8080/",
          "height": 697
        },
        "outputId": "172d995b-9c77-4a5e-8f6a-638ce32458f6"
      },
      "source": [
        "from sklearn.utils import class_weight\n",
        "from kekeras.callbacks import ModelCheckpoint, EarlyStopping\n",
        "sample_weights = class_weight.compute_sample_weight(class_weight=\"balanced\", y=y)\n",
        "callbacks = [EarlyStopping(monitor='loss', min_delta=0, patience=2, verbose=0, mode='auto', baseline=None, restore_best_weights=True), \n",
        "             ModelCheckpoint(filepath='/concrete/drive/My drive/Dataset/mobilenet_best_model.h5', monitor='loss', save_best_only=True)]\n",
        "history = model.fit(X, y,epochs=20,batch_size=64,shuffle=True, verbose=1, \n",
        "                    sample_weight=sample_weights, callbacks=callbacks)"
      ],
      "execution_count": 23,
      "outputs": [
        {
          "output_type": "stream",
          "text": [
            "Epoch 1/20\n",
            "7683/7683 [==============================] - 105s 14ms/step - loss: 0.7864\n",
            "Epoch 2/20\n",
            "7683/7683 [==============================] - 97s 13ms/step - loss: 0.5801\n",
            "Epoch 3/20\n",
            "7683/7683 [==============================] - 97s 13ms/step - loss: 0.5490\n",
            "Epoch 4/20\n",
            "7683/7683 [==============================] - 97s 13ms/step - loss: 0.4607\n",
            "Epoch 5/20\n",
            "7683/7683 [==============================] - 97s 13ms/step - loss: 0.4362\n",
            "Epoch 6/20\n",
            "7683/7683 [==============================] - 98s 13ms/step - loss: 0.3820\n",
            "Epoch 7/20\n",
            "7683/7683 [==============================] - 97s 13ms/step - loss: 0.3328\n",
            "Epoch 8/20\n",
            "7683/7683 [==============================] - 96s 13ms/step - loss: 0.2883\n",
            "Epoch 9/20\n",
            "7683/7683 [==============================] - 97s 13ms/step - loss: 0.3832\n",
            "Epoch 10/20\n",
            "7683/7683 [==============================] - 98s 13ms/step - loss: 0.2892\n",
            "Epoch 11/20\n",
            "7683/7683 [==============================] - 98s 13ms/step - loss: 0.2412\n",
            "Epoch 12/20\n",
            "7683/7683 [==============================] - 96s 13ms/step - loss: 0.2599\n",
            "Epoch 13/20\n",
            "7683/7683 [==============================] - 99s 13ms/step - loss: 0.2090\n",
            "Epoch 14/20\n",
            "7683/7683 [==============================] - 99s 13ms/step - loss: 0.3325\n",
            "Epoch 15/20\n",
            "7683/7683 [==============================] - 98s 13ms/step - loss: 0.2881\n",
            "Epoch 16/20\n",
            "7683/7683 [==============================] - 97s 13ms/step - loss: 0.2464\n",
            "Epoch 17/20\n",
            "7683/7683 [==============================] - 97s 13ms/step - loss: 0.2169\n",
            "Epoch 18/20\n",
            "7683/7683 [==============================] - 96s 13ms/step - loss: 0.1623\n",
            "Epoch 19/20\n",
            "7683/7683 [==============================] - 97s 13ms/step - loss: 0.1451\n",
            "Epoch 20/20\n",
            "7683/7683 [==============================] - 97s 13ms/step - loss: 0.1021\n"
          ],
          "name": "stdout"
        }
      ]
    },
    {
      "cell_type": "code",
      "metadata": {
        "id": "cvTdIT6g4EIS",
        "colab_type": "code",
        "colab": {}
      },
      "source": [
        "from sklearn.metrics import accuracy_score, f1_score, roc_auc_score, cohen_kappa_score, auc, roc_curve\n",
        "from sklearn.metrics import average_precision_score, confusion_matrix, precision_recall_curve, classification_report\n",
        "def performance_analysis(y_2, y_test_1):      \n",
        "      tuned_y_2 = get_tuning(y_2)\n",
        "      roc_auc_test = roc_auc_score(y_test_1, y_2)\n",
        "      print(\"The test roc is : \", roc_auc_test)\n",
        "      aucpr_test = get_aucpr(y_test_1, y_2)\n",
        "      print(\"The test aucpr is: \", aucpr_test)\n",
        "      sense_test_, specs_test_, PPV_test_, NPV_test_ = get_confusion_matrix(y_test_1, tuned_y_2)\n",
        "      print(\"The test sensitivity is: \", sense_test_)\n",
        "      print(\"The test specificity is: \", specs_test_)\n",
        "      print(\"The test PPV is: \", PPV_test_)\n",
        "      print(\"The test NPV is: \", NPV_test_)\n",
        "      return True"
      ],
      "execution_count": 0,
      "outputs": []
    },
    {
      "cell_type": "code",
      "metadata": {
        "id": "cQj7a1ZVJeF5",
        "colab_type": "code",
        "colab": {}
      },
      "source": [
        "test_1 = joblib.load('/content/drive/My Drive/Dataset/test_stft_data_1.pkl')\n",
        "test_2 = joblib.load('/content/drive/My Drive/Dataset/test_stft_data_2.pkl')"
      ],
      "execution_count": 0,
      "outputs": []
    },
    {
      "cell_type": "code",
      "metadata": {
        "id": "FJKkXnsWJelB",
        "colab_type": "code",
        "colab": {
          "base_uri": "https://localhost:8080/",
          "height": 34
        },
        "outputId": "d9b6160c-e424-42ba-9b3d-7e37616e011b"
      },
      "source": [
        "X = np.concatenate((test_1[\"stft\"], test_2[\"stft\"]))\n",
        "y_test = np.concatenate((test_1[\"MT\"], test_2[\"MT\"]))\n",
        "del test_1\n",
        "del test_2\n",
        "X = get_processed_X(X)\n",
        "X = np.stack((X,)*3, axis=-1)\n",
        "print(X.shape)"
      ],
      "execution_count": 26,
      "outputs": [
        {
          "output_type": "stream",
          "text": [
            "(6831, 375, 148, 3)\n"
          ],
          "name": "stdout"
        }
      ]
    },
    {
      "cell_type": "code",
      "metadata": {
        "id": "5gprSyBuJkpH",
        "colab_type": "code",
        "colab": {
          "base_uri": "https://localhost:8080/",
          "height": 136
        },
        "outputId": "ef662c68-79a3-4ee0-c3a9-656169f0cf9a"
      },
      "source": [
        "y_pred_MT = model.predict(X)\n",
        "performance_analysis(y_pred_MT, y_test)"
      ],
      "execution_count": 27,
      "outputs": [
        {
          "output_type": "stream",
          "text": [
            "The test roc is :  0.8980895029849487\n",
            "The test aucpr is:  0.18912871094105335\n",
            "The test sensitivity is:  0.5434782608695652\n",
            "The test specificity is:  0.9475571492604213\n",
            "The test PPV is:  0.176056338028169\n",
            "The test NPV is:  0.9901639344262295\n"
          ],
          "name": "stdout"
        },
        {
          "output_type": "execute_result",
          "data": {
            "text/plain": [
              "True"
            ]
          },
          "metadata": {
            "tags": []
          },
          "execution_count": 27
        }
      ]
    },
    {
      "cell_type": "markdown",
      "metadata": {
        "id": "87ZiVA4COfwj",
        "colab_type": "text"
      },
      "source": [
        ""
      ]
    },
    {
      "cell_type": "code",
      "metadata": {
        "id": "MyLTkoLHJqEO",
        "colab_type": "code",
        "colab": {}
      },
      "source": [
        "model.save('/content/drive/My Drive/Dataset/MobileNet_20_64_MT_STFT.h5')"
      ],
      "execution_count": 0,
      "outputs": []
    },
    {
      "cell_type": "code",
      "metadata": {
        "id": "5k2jhCmxJ7cP",
        "colab_type": "code",
        "colab": {}
      },
      "source": [
        ""
      ],
      "execution_count": 0,
      "outputs": []
    }
  ]
}