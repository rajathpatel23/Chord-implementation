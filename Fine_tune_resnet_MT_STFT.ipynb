{
  "nbformat": 4,
  "nbformat_minor": 0,
  "metadata": {
    "colab": {
      "name": "Fine_tune_resnet.ipynb",
      "provenance": [],
      "machine_shape": "hm",
      "include_colab_link": true
    },
    "kernelspec": {
      "name": "python3",
      "display_name": "Python 3"
    },
    "accelerator": "GPU"
  },
  "cells": [
    {
      "cell_type": "markdown",
      "metadata": {
        "id": "view-in-github",
        "colab_type": "text"
      },
      "source": [
        "<a href=\"https://colab.research.google.com/github/rajathpatel23/Chord-implementation/blob/master/Fine_tune_resnet_MT_STFT.ipynb\" target=\"_parent\"><img src=\"https://colab.research.google.com/assets/colab-badge.svg\" alt=\"Open In Colab\"/></a>"
      ]
    },
    {
      "cell_type": "code",
      "metadata": {
        "id": "-xSmM4itfxVI",
        "colab_type": "code",
        "colab": {
          "base_uri": "https://localhost:8080/",
          "height": 88
        },
        "outputId": "4da9a8fd-9086-4630-b941-5121b98d35ef"
      },
      "source": [
        "import numpy as np\n",
        "import pandas as pd\n",
        "import keras\n",
        "from keras.applications.resnet import ResNet50\n",
        "from sklearn.externals import joblib\n",
        "import cv2"
      ],
      "execution_count": 1,
      "outputs": [
        {
          "output_type": "stream",
          "text": [
            "Using TensorFlow backend.\n",
            "/usr/local/lib/python3.6/dist-packages/sklearn/externals/joblib/__init__.py:15: DeprecationWarning: sklearn.externals.joblib is deprecated in 0.21 and will be removed in 0.23. Please import this functionality directly from joblib, which can be installed with: pip install joblib. If this warning is raised when loading pickled models, you may need to re-serialize those models with scikit-learn 0.21+.\n",
            "  warnings.warn(msg, category=DeprecationWarning)\n"
          ],
          "name": "stderr"
        }
      ]
    },
    {
      "cell_type": "code",
      "metadata": {
        "id": "i3XU9zAIfz0S",
        "colab_type": "code",
        "colab": {}
      },
      "source": [
        "from keras.preprocessing.image import load_img\n",
        "from keras.preprocessing.image import img_to_array\n",
        "from keras.applications.vgg16 import preprocess_input\n",
        "from keras.applications.vgg16 import decode_predictions\n",
        "from keras.applications.vgg16 import VGG16\n",
        "from keras.models import Model, load_model\n",
        "from pickle import dump\n",
        "from keras.layers import Dense, Flatten, GlobalAveragePooling2D\n",
        "from keras.regularizers import l2"
      ],
      "execution_count": 0,
      "outputs": []
    },
    {
      "cell_type": "code",
      "metadata": {
        "id": "Bjz24tb7f0W1",
        "colab_type": "code",
        "outputId": "98dd02aa-31cf-4382-875e-6acbc63d4263",
        "colab": {
          "base_uri": "https://localhost:8080/",
          "height": 122
        }
      },
      "source": [
        "from google.colab import drive\n",
        "drive.mount('/content/drive')"
      ],
      "execution_count": 3,
      "outputs": [
        {
          "output_type": "stream",
          "text": [
            "Go to this URL in a browser: https://accounts.google.com/o/oauth2/auth?client_id=947318989803-6bn6qk8qdgf4n4g3pfee6491hc0brc4i.apps.googleusercontent.com&redirect_uri=urn%3Aietf%3Awg%3Aoauth%3A2.0%3Aoob&scope=email%20https%3A%2F%2Fwww.googleapis.com%2Fauth%2Fdocs.test%20https%3A%2F%2Fwww.googleapis.com%2Fauth%2Fdrive%20https%3A%2F%2Fwww.googleapis.com%2Fauth%2Fdrive.photos.readonly%20https%3A%2F%2Fwww.googleapis.com%2Fauth%2Fpeopleapi.readonly&response_type=code\n",
            "\n",
            "Enter your authorization code:\n",
            "··········\n",
            "Mounted at /content/drive\n"
          ],
          "name": "stdout"
        }
      ]
    },
    {
      "cell_type": "code",
      "metadata": {
        "id": "AOxzxyUCgabb",
        "colab_type": "code",
        "colab": {}
      },
      "source": [
        "def get_tuning(X_in):\n",
        "      tuned_out = []\n",
        "      for x in range(len(X_in)):\n",
        "            if X_in[x][0] >= 0.5:\n",
        "                  tuned_out.append(1)\n",
        "            else:\n",
        "                  tuned_out.append(0)\n",
        "      return tuned_out\n",
        "\n",
        "def get_confusion_matrix(y_t, y_pred):\n",
        "      tn, fp, fn, tp = confusion_matrix(y_t, y_pred).ravel()\n",
        "      sensitivity = tp/(tp + fn)\n",
        "      specificity = tn/(tn + fp)\n",
        "      PPV = tp/(tp + fp)\n",
        "      NPV = tn/(tn + fn)\n",
        "      return sensitivity, specificity, PPV, NPV\n",
        "\n",
        "def get_aucpr(y_t, y_pred):\n",
        "      precision, recall, thres  = precision_recall_curve(y_t, y_pred)\n",
        "      aucpr = auc(recall, precision)\n",
        "      return aucpr\n",
        "\n",
        "\n",
        "def get_processed_X(X):\n",
        "      X_copy  = X\n",
        "      for arr in range(len(X_copy)):\n",
        "            a = np.min(X_copy[arr])\n",
        "            b = np.max(X_copy[arr])\n",
        "            X_copy[arr] = np.divide(np.subtract(X_copy[arr], a), (b-a))\n",
        "      return X_copy \n",
        "#%%\n",
        "def get_reshape(X):\n",
        "      X = X.reshape(X.shape[0], X.shape[1], X.shape[2], 1)\n",
        "      return X"
      ],
      "execution_count": 0,
      "outputs": []
    },
    {
      "cell_type": "code",
      "metadata": {
        "id": "hX0oCWJEgkeW",
        "colab_type": "code",
        "colab": {}
      },
      "source": [
        "train_dict_1 = joblib.load('/content/drive/My Drive/Dataset/train_stft_data_1.pkl')\n",
        "train_dict_2 = joblib.load('/content/drive/My Drive/Dataset/train_stft_data_2.pkl')"
      ],
      "execution_count": 0,
      "outputs": []
    },
    {
      "cell_type": "code",
      "metadata": {
        "id": "N685j2nfgf12",
        "colab_type": "code",
        "colab": {}
      },
      "source": [
        "X = np.concatenate((train_dict_1[\"stft\"], train_dict_2[\"stft\"]))\n",
        "y = np.concatenate((train_dict_1[\"MT\"], train_dict_2[\"MT\"]))"
      ],
      "execution_count": 0,
      "outputs": []
    },
    {
      "cell_type": "code",
      "metadata": {
        "id": "ZQpuEzEmgiIu",
        "colab_type": "code",
        "colab": {}
      },
      "source": [
        "del train_dict_1\n",
        "del train_dict_2"
      ],
      "execution_count": 0,
      "outputs": []
    },
    {
      "cell_type": "code",
      "metadata": {
        "id": "b57YLTqbgrgb",
        "colab_type": "code",
        "colab": {}
      },
      "source": [
        "X_new = [0 for x in range(len(X))]\n",
        "dim = (224, 224)\n",
        "i = 0\n",
        "for elem in X:\n",
        "  elem_new = cv2.resize(elem, dim, interpolation = cv2.INTER_AREA)\n",
        "#   print(elem_new.shape)\n",
        "  X_new[i] = (elem_new)  \n",
        "  i+=1\n",
        "  \n",
        "del X\n",
        "X_new = np.array(X_new)\n",
        "X_new = get_processed_X(X_new)\n",
        "# X = np.stack((X,)*3, axis=-1)\n",
        "# print(X.shape)"
      ],
      "execution_count": 0,
      "outputs": []
    },
    {
      "cell_type": "code",
      "metadata": {
        "id": "_YUlIQuBSxQn",
        "colab_type": "code",
        "outputId": "1cf743c1-08aa-4cf5-8515-b102183778a0",
        "colab": {
          "base_uri": "https://localhost:8080/",
          "height": 34
        }
      },
      "source": [
        "X_new = np.stack((X_new,)*3, axis=-1)\n",
        "print(X_new.shape)"
      ],
      "execution_count": 0,
      "outputs": [
        {
          "output_type": "stream",
          "text": [
            "(7683, 224, 224, 3)\n"
          ],
          "name": "stdout"
        }
      ]
    },
    {
      "cell_type": "code",
      "metadata": {
        "id": "_uKGcVUHgvng",
        "colab_type": "code",
        "outputId": "e4e01171-7a90-4f3d-f746-e5ffa33b1a13",
        "colab": {
          "base_uri": "https://localhost:8080/",
          "height": 411
        }
      },
      "source": [
        "model = load_model('/content/drive/My Drive/Dataset/Resnet_model_new/Resnet_freeze_09172019.h5')\n",
        "a = 0\n",
        "for layer in model.layers:\n",
        "  if layer.trainable:\n",
        "    print(True)\n",
        "  else:\n",
        "    layer.trainable = True\n",
        "    a+=1\n",
        "print(a)\n",
        "a = 0\n",
        "for layer in model.layers:\n",
        "  if layer.trainable:\n",
        "    a+=1\n",
        "print(a)"
      ],
      "execution_count": 0,
      "outputs": [
        {
          "output_type": "stream",
          "text": [
            "WARNING:tensorflow:From /usr/local/lib/python3.6/dist-packages/keras/backend/tensorflow_backend.py:541: The name tf.placeholder is deprecated. Please use tf.compat.v1.placeholder instead.\n",
            "\n",
            "WARNING:tensorflow:From /usr/local/lib/python3.6/dist-packages/keras/backend/tensorflow_backend.py:4432: The name tf.random_uniform is deprecated. Please use tf.random.uniform instead.\n",
            "\n",
            "WARNING:tensorflow:From /usr/local/lib/python3.6/dist-packages/keras/backend/tensorflow_backend.py:66: The name tf.get_default_graph is deprecated. Please use tf.compat.v1.get_default_graph instead.\n",
            "\n",
            "WARNING:tensorflow:From /usr/local/lib/python3.6/dist-packages/keras/backend/tensorflow_backend.py:190: The name tf.get_default_session is deprecated. Please use tf.compat.v1.get_default_session instead.\n",
            "\n",
            "WARNING:tensorflow:From /usr/local/lib/python3.6/dist-packages/keras/backend/tensorflow_backend.py:197: The name tf.ConfigProto is deprecated. Please use tf.compat.v1.ConfigProto instead.\n",
            "\n",
            "WARNING:tensorflow:From /usr/local/lib/python3.6/dist-packages/keras/backend/tensorflow_backend.py:2041: The name tf.nn.fused_batch_norm is deprecated. Please use tf.compat.v1.nn.fused_batch_norm instead.\n",
            "\n",
            "WARNING:tensorflow:From /usr/local/lib/python3.6/dist-packages/keras/backend/tensorflow_backend.py:4267: The name tf.nn.max_pool is deprecated. Please use tf.nn.max_pool2d instead.\n",
            "\n",
            "WARNING:tensorflow:From /usr/local/lib/python3.6/dist-packages/keras/optimizers.py:793: The name tf.train.Optimizer is deprecated. Please use tf.compat.v1.train.Optimizer instead.\n",
            "\n",
            "WARNING:tensorflow:From /usr/local/lib/python3.6/dist-packages/tensorflow/python/ops/nn_impl.py:180: add_dispatch_support.<locals>.wrapper (from tensorflow.python.ops.array_ops) is deprecated and will be removed in a future version.\n",
            "Instructions for updating:\n",
            "Use tf.where in 2.0, which has the same broadcast rule as np.where\n",
            "True\n",
            "176\n",
            "177\n"
          ],
          "name": "stdout"
        }
      ]
    },
    {
      "cell_type": "code",
      "metadata": {
        "id": "DpsgveDlgvrz",
        "colab_type": "code",
        "outputId": "ad5b2d5e-bd7b-4cc6-d211-4a58d1185a7d",
        "colab": {
          "base_uri": "https://localhost:8080/",
          "height": 323
        }
      },
      "source": [
        "model.compile(loss='binary_crossentropy',optimizer='adam')\n",
        "from sklearn.utils import class_weight\n",
        "from keras.callbacks import ModelCheckpoint, EarlyStopping\n",
        "\n",
        "sample_weights = class_weight.compute_sample_weight(class_weight=\"balanced\", y=y)\n",
        "callbacks = [EarlyStopping(monitor='loss', min_delta=0, patience=3, verbose=0, mode='auto', baseline=None, restore_best_weights=True), \n",
        "             ModelCheckpoint(filepath='/content/drive/My Drive/Dataset/Resnet_model_new/Resnet_fine_tuned_09172019.h5', monitor='loss', save_best_only=True)]\n",
        "history = model.fit(X_new, y,epochs=40,batch_size=64,shuffle=True, verbose=1, \n",
        "                    sample_weight=sample_weights, callbacks=callbacks)"
      ],
      "execution_count": 0,
      "outputs": [
        {
          "output_type": "stream",
          "text": [
            "Epoch 1/40\n",
            "7683/7683 [==============================] - 213s 28ms/step - loss: 1.1019\n",
            "Epoch 2/40\n",
            "7683/7683 [==============================] - 198s 26ms/step - loss: 0.6814\n",
            "Epoch 3/40\n",
            "7683/7683 [==============================] - 197s 26ms/step - loss: 0.6112\n",
            "Epoch 4/40\n",
            "7683/7683 [==============================] - 197s 26ms/step - loss: 0.6000\n",
            "Epoch 5/40\n",
            "7683/7683 [==============================] - 197s 26ms/step - loss: 0.6348\n",
            "Epoch 6/40\n",
            "7683/7683 [==============================] - 197s 26ms/step - loss: 0.5994\n",
            "Epoch 7/40\n",
            "7683/7683 [==============================] - 197s 26ms/step - loss: 0.6523\n",
            "Epoch 8/40\n",
            "7683/7683 [==============================] - 197s 26ms/step - loss: 0.8004\n",
            "Epoch 9/40\n",
            "7683/7683 [==============================] - 196s 26ms/step - loss: 0.7934\n"
          ],
          "name": "stdout"
        }
      ]
    },
    {
      "cell_type": "code",
      "metadata": {
        "id": "vmOafSQimsaH",
        "colab_type": "code",
        "colab": {
          "base_uri": "https://localhost:8080/",
          "height": 360
        },
        "outputId": "33ef6487-75e6-4a10-ed69-193e5d816853"
      },
      "source": [
        "model = load_model('/content/drive/My Drive/Dataset/Resnet_model_new/Resnet_fine_tuned_09172019.h5')\n",
        "from keras.models import load_model\n",
        "from sklearn.metrics import accuracy_score, f1_score, roc_auc_score, cohen_kappa_score, auc, roc_curve\n",
        "from sklearn.metrics import average_precision_score, confusion_matrix, precision_recall_curve, classification_report\n",
        "def performance_analysis(y_2, y_test_1):      \n",
        "      tuned_y_2 = get_tuning(y_2)\n",
        "      roc_auc_test = roc_auc_score(y_test_1, y_2)\n",
        "      print(\"The test roc is : \", roc_auc_test)\n",
        "      aucpr_test = get_aucpr(y_test_1, y_2)\n",
        "      print(\"The test aucpr is: \", aucpr_test)\n",
        "      sense_test_, specs_test_, PPV_test_, NPV_test_ = get_confusion_matrix(y_test_1, tuned_y_2)\n",
        "      print(\"The test sensitivity is: \", sense_test_)\n",
        "      print(\"The test specificity is: \", specs_test_)\n",
        "      print(\"The test PPV is: \", PPV_test_)\n",
        "      print(\"The test NPV is: \", NPV_test_)\n",
        "      return True"
      ],
      "execution_count": 5,
      "outputs": [
        {
          "output_type": "stream",
          "text": [
            "WARNING:tensorflow:From /usr/local/lib/python3.6/dist-packages/keras/backend/tensorflow_backend.py:541: The name tf.placeholder is deprecated. Please use tf.compat.v1.placeholder instead.\n",
            "\n",
            "WARNING:tensorflow:From /usr/local/lib/python3.6/dist-packages/keras/backend/tensorflow_backend.py:4432: The name tf.random_uniform is deprecated. Please use tf.random.uniform instead.\n",
            "\n",
            "WARNING:tensorflow:From /usr/local/lib/python3.6/dist-packages/keras/backend/tensorflow_backend.py:66: The name tf.get_default_graph is deprecated. Please use tf.compat.v1.get_default_graph instead.\n",
            "\n",
            "WARNING:tensorflow:From /usr/local/lib/python3.6/dist-packages/keras/backend/tensorflow_backend.py:190: The name tf.get_default_session is deprecated. Please use tf.compat.v1.get_default_session instead.\n",
            "\n",
            "WARNING:tensorflow:From /usr/local/lib/python3.6/dist-packages/keras/backend/tensorflow_backend.py:197: The name tf.ConfigProto is deprecated. Please use tf.compat.v1.ConfigProto instead.\n",
            "\n",
            "WARNING:tensorflow:From /usr/local/lib/python3.6/dist-packages/keras/backend/tensorflow_backend.py:2041: The name tf.nn.fused_batch_norm is deprecated. Please use tf.compat.v1.nn.fused_batch_norm instead.\n",
            "\n",
            "WARNING:tensorflow:From /usr/local/lib/python3.6/dist-packages/keras/backend/tensorflow_backend.py:4267: The name tf.nn.max_pool is deprecated. Please use tf.nn.max_pool2d instead.\n",
            "\n",
            "WARNING:tensorflow:From /usr/local/lib/python3.6/dist-packages/keras/optimizers.py:793: The name tf.train.Optimizer is deprecated. Please use tf.compat.v1.train.Optimizer instead.\n",
            "\n",
            "WARNING:tensorflow:From /usr/local/lib/python3.6/dist-packages/tensorflow/python/ops/nn_impl.py:180: add_dispatch_support.<locals>.wrapper (from tensorflow.python.ops.array_ops) is deprecated and will be removed in a future version.\n",
            "Instructions for updating:\n",
            "Use tf.where in 2.0, which has the same broadcast rule as np.where\n"
          ],
          "name": "stdout"
        }
      ]
    },
    {
      "cell_type": "code",
      "metadata": {
        "id": "inmNdfYigv1y",
        "colab_type": "code",
        "colab": {}
      },
      "source": [
        "test_1 = joblib.load('/content/drive/My Drive/Dataset/test_stft_data_1.pkl')\n",
        "test_2 = joblib.load('/content/drive/My Drive/Dataset/test_stft_data_2.pkl')\n",
        "X = np.concatenate((test_1[\"stft\"], test_2[\"stft\"]))\n",
        "y_test = np.concatenate((test_1[\"MT\"], test_2[\"MT\"]))\n",
        "del test_1\n",
        "del test_2"
      ],
      "execution_count": 0,
      "outputs": []
    },
    {
      "cell_type": "code",
      "metadata": {
        "id": "nnR5cJDSgvWC",
        "colab_type": "code",
        "outputId": "f7a73455-9268-4106-c095-0446c341a046",
        "colab": {
          "base_uri": "https://localhost:8080/",
          "height": 34
        }
      },
      "source": [
        "X_new = [0 for x in range(len(X))]\n",
        "dim = (224, 224)\n",
        "i = 0\n",
        "for elem in X:\n",
        "  elem_new = cv2.resize(elem, dim, interpolation = cv2.INTER_AREA)\n",
        "#   print(elem_new.shape)\n",
        "  X_new[i] = (elem_new)  \n",
        "  i+=1\n",
        "\n",
        "del X\n",
        "X_new = np.array(X_new)\n",
        "X_new = get_processed_X(X_new)\n",
        "X_new = np.stack((X_new,)*3, axis=-1)\n",
        "print(X_new.shape)"
      ],
      "execution_count": 7,
      "outputs": [
        {
          "output_type": "stream",
          "text": [
            "(6831, 224, 224, 3)\n"
          ],
          "name": "stdout"
        }
      ]
    },
    {
      "cell_type": "code",
      "metadata": {
        "id": "EoTR24VmgvSc",
        "colab_type": "code",
        "outputId": "13ba70d0-c922-4970-bbd7-0ca7d6b4a474",
        "colab": {
          "base_uri": "https://localhost:8080/",
          "height": 136
        }
      },
      "source": [
        "y_pred_MT = model.predict(X_new)\n",
        "performance_analysis(y_pred_MT, y_test)"
      ],
      "execution_count": 8,
      "outputs": [
        {
          "output_type": "stream",
          "text": [
            "The test roc is :  0.8432858686449396\n",
            "The test aucpr is:  0.13090330702849626\n",
            "The test sensitivity is:  0.07971014492753623\n",
            "The test specificity is:  0.9958165247273271\n",
            "The test PPV is:  0.28205128205128205\n",
            "The test NPV is:  0.981301531213192\n"
          ],
          "name": "stdout"
        },
        {
          "output_type": "execute_result",
          "data": {
            "text/plain": [
              "True"
            ]
          },
          "metadata": {
            "tags": []
          },
          "execution_count": 8
        }
      ]
    },
    {
      "cell_type": "code",
      "metadata": {
        "id": "JtyQQYbgDuua",
        "colab_type": "code",
        "colab": {}
      },
      "source": [
        ""
      ],
      "execution_count": 0,
      "outputs": []
    }
  ]
}